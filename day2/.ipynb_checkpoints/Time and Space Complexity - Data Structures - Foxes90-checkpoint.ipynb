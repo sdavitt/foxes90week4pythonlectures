{
 "cells": [
  {
   "cell_type": "markdown",
   "metadata": {},
   "source": [
    "# Time/Space Complexity - Intro to Data Structures (User Defined)\n",
    "\n",
    "### Topics to discuss today:\n",
    "\n",
    "<ul>\n",
    "    <li>Time and Space Complexity - What is it/How do we measure it</li>\n",
    "    <li>Asymptotic Analysis</li>\n",
    "    <li><strong>Data Structures</strong></li>\n",
    "    <li>Some of the popular sorting algorithms</li>\n",
    "</ul>\n",
    "\n",
    "### Data Structures to discuss:\n",
    "- Arrays\n",
    "- Stacks\n",
    "- Queues\n",
    "- Linked Lists\n",
    "    - Singly Linked Lists\n",
    "    - Traversing A Linked List\n",
    "    - Finding a node in a linked list\n",
    "    - Adding to a linked list\n"
   ]
  },
  {
   "cell_type": "markdown",
   "metadata": {},
   "source": [
    "## Time and Space Complexity\n",
    "\n",
    "#### What is it?\n",
    "\n",
    "Time and space complexity is the measure of how much time a given action(function) will take to solve a problem. In the same fashion, we determine how much a given data structure will need in terms of memory allocation. A problem can have multiple solutions and finding the optimal solution for the problem needs to be analyzed in time and space.\n",
    "\n",
    "#### How do we measure Time and Space Complexity?\n",
    "\n",
    "In order to measure time and space complexity we use Asymptotic analysis. The reason for this is because we need a way to measure different algorithms (functions) based on the size of their inputs in a mathmatical way. For example, we could have a function that is computed as f(n) and another that is g(n^2). All things around the function staying constant, the only thing that changes is the size of the input. Below is the chart that shows the different Asymptotic analysis formats. "
   ]
  },
  {
   "cell_type": "markdown",
   "metadata": {},
   "source": [
    "<table style=\"text-align:center;\" class=\"table table-bordered\">\n",
    "<tbody><tr>\n",
    "<td>constant</td>\n",
    "<td>−</td>\n",
    "<td>Ο(1)</td>\n",
    "</tr>\n",
    "<tr>\n",
    "<td>logarithmic</td>\n",
    "<td>−</td>\n",
    "<td>Ο(log n)</td>\n",
    "</tr>\n",
    "<tr>\n",
    "<td>linear</td>\n",
    "<td>−</td>\n",
    "<td>Ο(n)</td>\n",
    "</tr>\n",
    "<tr>\n",
    "<td>Linear Logarithmic</td>\n",
    "<td>−</td>\n",
    "<td>Ο(n log n)</td>\n",
    "</tr>\n",
    "<tr>\n",
    "<td>quadratic</td>\n",
    "<td>−</td>\n",
    "<td>Ο(n<sup>2</sup>)</td>\n",
    "</tr>\n",
    "<tr>\n",
    "<td>cubic</td>\n",
    "<td>−</td>\n",
    "<td>Ο(n<sup>3</sup>)</td>\n",
    "</tr>\n",
    "<tr>\n",
    "<td>polynomial</td>\n",
    "<td>−</td>\n",
    "<td>n<sup>Ο(1)</sup></td>\n",
    "</tr>\n",
    "<tr>\n",
    "<td>exponential</td>\n",
    "<td>−</td>\n",
    "<td>2<sup>Ο(n)</sup></td>\n",
    "</tr>\n",
    "</tbody></table>"
   ]
  },
  {
   "cell_type": "code",
   "execution_count": 3,
   "metadata": {},
   "outputs": [
    {
     "name": "stdout",
     "output_type": "stream",
     "text": [
      "for loop through animals (length 3): 3\n",
      "for loop through fish (length 5): 5\n",
      "nested for loops through animals (length 3): 9\n",
      "nested for loops through fish (length 5): 25\n"
     ]
    }
   ],
   "source": [
    "# what we're actually measuring is the amount of steps that an algorithm takes for each piece of input n\n",
    "# a constant time algorithm - O(1)\n",
    "    # takes one step regardless of how many pieces of input it has to deal with\n",
    "    # one step for a list of 10 items and one step for a list of 1000000000 items\n",
    "    \n",
    "# a linear algorithm - O(n)\n",
    "    # takes one step per piece of input\n",
    "    # list of 10 items -> 10 steps\n",
    "    # list of 1000000 -> 1000000 steps\n",
    "    \n",
    "# a quadratic algorithm - O(n^2)\n",
    "    # takes exponentially more steps the more input it has to deal with\n",
    "    # a list of 10 items -> 100 steps\n",
    "    # a list of 100 items ->  10000 steps\n",
    "    \n",
    "\n",
    "animals = ['Fennec Fox', 'Arctic Fox', 'Tibetan Fox']\n",
    "fish = ['Bonito', 'Bluefin Tuna', 'Amberjack', 'Mahi Mahi', 'Sea Urchin']\n",
    "\n",
    "# a constant time algorithm/process: indexing into a list\n",
    "# regardless of the size of the list, indexing takes the same number of steps: 1\n",
    "animals[2]\n",
    "fish[2]\n",
    "\n",
    "# a linear time algorithm: a single for loop\n",
    "steps = 0\n",
    "for animal in animals:\n",
    "    steps += 1\n",
    "print(f'for loop through animals (length 3): {steps}')\n",
    "\n",
    "steps = 0\n",
    "for f in fish:\n",
    "    steps += 1\n",
    "print(f'for loop through fish (length 5): {steps}')\n",
    "\n",
    "\n",
    "# a quadratic algorithm: nested for loops\n",
    "steps = 0\n",
    "for x in animals:\n",
    "    for y in animals:\n",
    "        steps += 1\n",
    "print(f'nested for loops through animals (length 3): {steps}')\n",
    "\n",
    "steps = 0\n",
    "for x in fish:\n",
    "    for y in fish:\n",
    "        steps += 1\n",
    "print(f'nested for loops through fish (length 5): {steps}')"
   ]
  },
  {
   "cell_type": "code",
   "execution_count": 4,
   "metadata": {},
   "outputs": [
    {
     "name": "stdout",
     "output_type": "stream",
     "text": [
      "nested for loops through animals (length 3): 9\n",
      "nested for loops through animals (length 4): 16\n",
      "nested for loops through animals (length 5): 25\n",
      "nested for loops through animals (length 6): 36\n"
     ]
    }
   ],
   "source": [
    "# another slightly more realistic way that we can think about time complexity\n",
    "# the impact of adding one more piece of input\n",
    "# how many more steps does this algorithm take if we move from 3 pieces of input to 4?\n",
    "    # is that increase the same when moving from 4 to 5?\n",
    "    \n",
    "# constant time algo O(1) - any increase in input means no increase in steps\n",
    "# linear algo O(n) - any increase in input means the same increase in steps (3->4 and 4->5 would increase steps the same)\n",
    "# quadratic algo O(n^2) - any increase in input means an ever-increasing increase in the number of steps\n",
    "    # 3->4 may increase steps by 7\n",
    "    # 4->5 may increase steps by 9\n",
    "    # 5->6 may increase steps by 11\n",
    "\n",
    "steps = 0\n",
    "for x in animals:\n",
    "    for y in animals:\n",
    "        steps += 1\n",
    "print(f'nested for loops through animals (length 3): {steps}')\n",
    "\n",
    "animals.append('Muskrat')\n",
    "\n",
    "steps = 0\n",
    "for x in animals:\n",
    "    for y in animals:\n",
    "        steps += 1\n",
    "print(f'nested for loops through animals (length 4): {steps}')\n",
    "\n",
    "animals.append('Bison')\n",
    "\n",
    "steps = 0\n",
    "for x in animals:\n",
    "    for y in animals:\n",
    "        steps += 1\n",
    "print(f'nested for loops through animals (length 5): {steps}')\n",
    "\n",
    "animals.append('Tortoise')\n",
    "\n",
    "steps = 0\n",
    "for x in animals:\n",
    "    for y in animals:\n",
    "        steps += 1\n",
    "print(f'nested for loops through animals (length 6): {steps}')"
   ]
  },
  {
   "cell_type": "code",
   "execution_count": 5,
   "metadata": {},
   "outputs": [
    {
     "name": "stdout",
     "output_type": "stream",
     "text": [
      "for loop through animals (length 6): 6\n",
      "for loop through animals (length 7): 7\n",
      "for loop through animals (length 8): 8\n"
     ]
    }
   ],
   "source": [
    "steps = 0\n",
    "for animal in animals:\n",
    "    steps += 1\n",
    "print(f'for loop through animals (length 6): {steps}')\n",
    "\n",
    "animals.append('River Otter')\n",
    "\n",
    "steps = 0\n",
    "for animal in animals:\n",
    "    steps += 1\n",
    "print(f'for loop through animals (length 7): {steps}')\n",
    "\n",
    "animals.append('Tiger')\n",
    "\n",
    "steps = 0\n",
    "for animal in animals:\n",
    "    steps += 1\n",
    "print(f'for loop through animals (length 8): {steps}')\n",
    "\n"
   ]
  },
  {
   "cell_type": "code",
   "execution_count": 10,
   "metadata": {},
   "outputs": [
    {
     "name": "stdout",
     "output_type": "stream",
     "text": [
      "Two separate loops thru 1000 values: 2000\n",
      "Two nested loops thru 1000 values: 1000000\n",
      "Two separate loops thru a million values: 2000000\n"
     ]
    },
    {
     "ename": "KeyboardInterrupt",
     "evalue": "",
     "output_type": "error",
     "traceback": [
      "\u001b[1;31m---------------------------------------------------------------------------\u001b[0m",
      "\u001b[1;31mKeyboardInterrupt\u001b[0m                         Traceback (most recent call last)",
      "\u001b[1;32m<ipython-input-10-502a77bb3d57>\u001b[0m in \u001b[0;36m<module>\u001b[1;34m\u001b[0m\n\u001b[0;32m     34\u001b[0m \u001b[1;32mfor\u001b[0m \u001b[0ma\u001b[0m \u001b[1;32min\u001b[0m \u001b[0mlist_b\u001b[0m\u001b[1;33m:\u001b[0m\u001b[1;33m\u001b[0m\u001b[1;33m\u001b[0m\u001b[0m\n\u001b[0;32m     35\u001b[0m     \u001b[1;32mfor\u001b[0m \u001b[0ma\u001b[0m \u001b[1;32min\u001b[0m \u001b[0mlist_b\u001b[0m\u001b[1;33m:\u001b[0m\u001b[1;33m\u001b[0m\u001b[1;33m\u001b[0m\u001b[0m\n\u001b[1;32m---> 36\u001b[1;33m         \u001b[0msteps\u001b[0m\u001b[1;33m+=\u001b[0m\u001b[1;36m1\u001b[0m\u001b[1;33m\u001b[0m\u001b[1;33m\u001b[0m\u001b[0m\n\u001b[0m\u001b[0;32m     37\u001b[0m \u001b[0mprint\u001b[0m\u001b[1;33m(\u001b[0m\u001b[1;34mf'Two nested loops thru a million values: {steps}'\u001b[0m\u001b[1;33m)\u001b[0m\u001b[1;33m\u001b[0m\u001b[1;33m\u001b[0m\u001b[0m\n",
      "\u001b[1;31mKeyboardInterrupt\u001b[0m: "
     ]
    }
   ],
   "source": [
    "# Know the rules/descriptions of linear and quadratic time complexity\n",
    "# What is the time complexity of the following code:\n",
    "\n",
    "# Two separate for loops\n",
    "    # aka one linear process independently followed by a second linear process\n",
    "    # is still overall linear\n",
    "    # n + n -> O(n)\n",
    "\n",
    "list_a = [x for x in range(1000)]\n",
    "\n",
    "list_b = [x for x in range(1000000)]\n",
    "\n",
    "steps = 0\n",
    "for a in list_a:\n",
    "    steps+=1\n",
    "for a in list_a:\n",
    "    steps+=1\n",
    "print(f'Two separate loops thru 1000 values: {steps}')\n",
    "\n",
    "steps = 0\n",
    "for a in list_a:\n",
    "    for a in list_a:\n",
    "        steps+=1\n",
    "print(f'Two nested loops thru 1000 values: {steps}')\n",
    "\n",
    "steps = 0\n",
    "for a in list_b:\n",
    "    steps+=1\n",
    "for a in list_b:\n",
    "    steps+=1\n",
    "print(f'Two separate loops thru a million values: {steps}')\n",
    "\n",
    "steps = 0\n",
    "for a in list_b:\n",
    "    for a in list_b:\n",
    "        steps+=1\n",
    "print(f'Two nested loops thru a million values: {steps}')\n",
    "\n",
    "# This illustrates why we allow for simplification -> the impact of the second separate for loop is negligible\n",
    "# When compared to the nested for loops"
   ]
  },
  {
   "cell_type": "markdown",
   "metadata": {},
   "source": [
    "## Arrays"
   ]
  },
  {
   "cell_type": "markdown",
   "metadata": {},
   "source": [
    "In python we benefit from the dynamic array which means the block of memory will expand as needed for the given input to the array. In traditional arrays (depending on the type of operating system) we will usually store our inputs in 4 or 8 consecutive blocks of memory. Below is a diagram of how that looks under the hood:\n",
    "\n",
    "<img src=\"http://www.mathcs.emory.edu/~cheung/Courses/170/Syllabus/09/FIGS/array02x.gif\" style=\"height:250px; width:350px;\">"
   ]
  },
  {
   "cell_type": "markdown",
   "metadata": {},
   "source": [
    "## Which in python looks like this:"
   ]
  },
  {
   "cell_type": "code",
   "execution_count": 3,
   "metadata": {},
   "outputs": [
    {
     "name": "stdout",
     "output_type": "stream",
     "text": [
      "['Fennec Fox', 'Arctic Fox', 'Tibetan Fox', \"Blanford's Fox\", 'Red Fox', 'Grey Fox', True]\n"
     ]
    }
   ],
   "source": [
    "mylist = ['Fennec Fox', 'Arctic Fox', 'Tibetan Fox', 'Blanford\\'s Fox', 'Red Fox', 'Grey Fox']\n",
    "\n",
    "# dynamic array sizing... if the array needs to become larger, it becomes larger\n",
    "mylist.append(True)\n",
    "# different datatypes are allowed\n",
    "print(mylist)"
   ]
  },
  {
   "cell_type": "markdown",
   "metadata": {},
   "source": [
    "### Let's take a look at some of the time and space analysis of arrays"
   ]
  },
  {
   "cell_type": "code",
   "execution_count": 4,
   "metadata": {},
   "outputs": [
    {
     "name": "stdout",
     "output_type": "stream",
     "text": [
      "['Desert Fox', 'Arctic Fox', 'Tibetan Fox', 'Red Fox']\n"
     ]
    }
   ],
   "source": [
    "# creating a list - linear process - O(n) time and space\n",
    "mylist = ['Fennec Fox', 'Arctic Fox', 'Tibetan Fox', 'Red Fox', 'Grey Fox']\n",
    "\n",
    "# copying a list - linear process - O(n) time and space\n",
    "mylistcopy = mylist[:]\n",
    "\n",
    "# indexing into a list - O(1) constant time operation\n",
    "mylist[3] # we're telling the computer exactly where in memory to look\n",
    "        # it doesn't need to take steps, it is just going to that location\n",
    "\n",
    "# searching/looping a list - O(n) linear time process - we have to take a step for each element in the list\n",
    "for i in mylist:\n",
    "    pass\n",
    "# a number of built-ins associated with lists that involve some form of searching/looping are O(n)\n",
    "mylist.index('Red Fox')\n",
    "mylist.count('Grey Fox')\n",
    "# membership test in a list - O(n)\n",
    "if 'Panda' in mylist:\n",
    "    pass\n",
    "\n",
    "# adding a value to the list - efficiency depends on where you are adding the value\n",
    "mylist.insert(1, 'Desert Fox') # adding to the start or middle of a list is a O(n) linear process\n",
    "# and the availability of consecutive memory locations\n",
    "# appending - aka adding to the end of a list is a constant time operation O(1)*\n",
    "    # *in some scenarios appending will be a linear process\n",
    "    # appending is what is known as an amortized constant time process\n",
    "        # aka except in a specific scenario, it is worst-case constant\n",
    "        # that specific scenario is if there is no available consecutive memory location\n",
    "mylist.append('Orca')\n",
    "\n",
    "# removing a value from a list - Ω(n) Θ(n) O(n)\n",
    "# 2 options for removing - .remove() and .pop()\n",
    "# .remove() - removes based on a value - O(n) -> must search for the value then remove it and move every other value in memory\n",
    "mylist.remove('Orca')\n",
    "# .pop() - default behavior and best-case Ω(1)\n",
    "# the default behavior of pop is to remove the last item in the list\n",
    "# requires no searching, requires no moving the other items\n",
    "mylist.pop()\n",
    "# however, popping from the front of the list is a linear process - O(n)\n",
    "# we must move every other item in memory\n",
    "mylist.pop(0)\n",
    "\n",
    "# list comprehension - why is this the preferred method for creating a list\n",
    "# the answer comes down to memory efficiency\n",
    "# list comprehensions are more efficient and can be more time efficient than their non-list comprehension equivalents\n",
    "\n",
    "# let's break down a non-list comprehension list creation\n",
    "newlist = [] # 1\n",
    "for i in mylist: # O(n)\n",
    "    newlist.append(i) # O(1)* - appending can be a linear process if there isn't another available consecutive memory slot\n",
    "print(newlist)\n",
    "# ordinarily - the above structure would be 1 + n*1 -> O(n)\n",
    "\n",
    "# with a list comprehension, python knows the maximum size of the newlist based on the size of the other iterable\n",
    "# therefore, python can pick a memory location that it knows has enough space for the maximum items in the new list\n",
    "# thereby preventing any potential appends requiring moving the entire array\n",
    "# with a list comprehension, there is no pontential risk for the computer to have to reshuffle memory locations of existing items\n",
    "newlist = [x for x in mylist] # O(n) linear\n",
    "# thats why list comprehension are considered best practice for creating a list from another iterable\n",
    "# list comprehension are normall O(n) linear processes\n",
    "    # depending on your transformation and/or conditional, they can be worse than linear"
   ]
  },
  {
   "cell_type": "code",
   "execution_count": null,
   "metadata": {},
   "outputs": [],
   "source": [
    "# O(n) linear Time complexity\n",
    "# O(1) constant space complexity\n",
    "\n",
    "def bigPairSum(arr):\n",
    "    if arr[0] > arr[1]: # 1\n",
    "        largest = arr[0] # 1\n",
    "        large2 = arr[1] # 1\n",
    "    else:\n",
    "        largest = arr[1] # 1\n",
    "        large2 = arr[0] # 1\n",
    "    for i in range(2, len(arr)): # n\n",
    "        if arr[i] > largest: # 1\n",
    "            large2 = largest # 1\n",
    "            largest = arr[i] # 1\n",
    "        elif arr[i] > large2: # 1\n",
    "            large2 = arr[i] # 1 \n",
    "    return largest+large2 # 1\n",
    "\n",
    "bigPairSum([99, 2, 2, 23, 19]) \n",
    "# what's going on in this function call? is this a linear list creation nested in our linear function?\n",
    "    # often times when you are first exposed to time complexity it is a temptation to see something in parenthesis\n",
    "    # as being automatically nested inside whichever operation is controlled by that function call\n",
    "# it is always important when trying to determine if you have one linear process followed by another (n+n -> O(n))\n",
    "# or nested linear processes (n*n -> O(n^2))\n",
    "# to ask: 'Is one operation finished when the second operation starts?'\n",
    "    # and: 'Does one operation occur at every step of the other operation?'\n",
    "    \n",
    "# If one operation is finished when the second starts, the operations are not nested. (n+n -> n)\n",
    "# If one operation occurs at every step of the other operation, they ARE nested. (n*n -> n^2)\n",
    "    \n",
    "# in this case: the list is created before the function begins\n",
    "# so we have one linear process separately followed by another linear process\n",
    "# aka n + n -> O(n) linear overall\n",
    "# when including the creation of the input list and the running of the function"
   ]
  },
  {
   "cell_type": "markdown",
   "metadata": {},
   "source": [
    "## Stacks and Queues\n",
    "\n",
    "** Stacks ** as the name suggests is a data structure that allows for data to follow the Last In First Out priciple(LIFO). Think of a stack of pancakes for example. To get the first pancake you would  start with the top and go down.\n",
    "\n",
    "##### Searching through a stack will be Linear Time O(n) - Constant Space O(1)\n",
    "##### Selecting the last item will be done in Constant Time O(1) - Constant Space O(1)\n",
    "##### Adding to the stack should take Constant Time O(1) - Constant Space O(1)\n",
    "\n",
    "** Queues ** are similar but in this case follow the First In First Out principle(FIFO). Think of this as a line in a black friday sale. The first person camped out for the big screen tv is the first to get it.\n",
    "\n",
    "##### Searching through a queue will be Linear Time O(n) - Constant Space O(1)\n",
    "##### Selecting the first item will be done in Constant Time O(1) - Constant Space O(1)\n",
    "##### Adding to the queue should take Constant Time O(1) - Constant Space O(1)"
   ]
  },
  {
   "cell_type": "code",
   "execution_count": null,
   "metadata": {},
   "outputs": [],
   "source": []
  },
  {
   "cell_type": "markdown",
   "metadata": {},
   "source": [
    "## Linked List (Data Structure)\n",
    "\n",
    "A linked list is created by using the node class. We create a Node object and create another class to use this node object. We pass the appropriate values thorugh the node object to point the to the next data elements.\n",
    "\n",
    "There are some advantages and disadvantages with this data structure. **Advantages** Linked Lists can save memory because they can be flexibile with memory management which saves memory. **Disadvantages** Finding or adding to the list requires traversing the entire list."
   ]
  },
  {
   "cell_type": "code",
   "execution_count": null,
   "metadata": {},
   "outputs": [],
   "source": []
  },
  {
   "cell_type": "code",
   "execution_count": null,
   "metadata": {},
   "outputs": [],
   "source": []
  }
 ],
 "metadata": {
  "kernelspec": {
   "display_name": "Python 3",
   "language": "python",
   "name": "python3"
  },
  "language_info": {
   "codemirror_mode": {
    "name": "ipython",
    "version": 3
   },
   "file_extension": ".py",
   "mimetype": "text/x-python",
   "name": "python",
   "nbconvert_exporter": "python",
   "pygments_lexer": "ipython3",
   "version": "3.8.8"
  }
 },
 "nbformat": 4,
 "nbformat_minor": 2
}
