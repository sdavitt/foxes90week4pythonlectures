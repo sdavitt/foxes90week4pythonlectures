{
 "cells": [
  {
   "cell_type": "markdown",
   "metadata": {},
   "source": [
    "# Algorithms, Binary Search & Linked Lists"
   ]
  },
  {
   "cell_type": "markdown",
   "metadata": {},
   "source": [
    "## Tasks Today:\n",
    " \n",
    "1) <b>In-Place Algorithms</b> <br>\n",
    " &nbsp;&nbsp;&nbsp;&nbsp; a) Syntax <br>\n",
    " &nbsp;&nbsp;&nbsp;&nbsp; a) Out of Place Algorithm <br>\n",
    " &nbsp;&nbsp;&nbsp;&nbsp; b) In-Class Exercise #1 <br>\n",
    "2) <b>Two Pointers</b> <br>\n",
    "4) <b>Merge Sort</b> <br>\n",
    " &nbsp;&nbsp;&nbsp;&nbsp; a) Video on Algorithms <br>\n",
    " &nbsp;&nbsp;&nbsp;&nbsp; b) How it Works <br>\n",
    "5) <b>Exercises</b> <br>\n",
    " &nbsp;&nbsp;&nbsp;&nbsp; a) Exercise #1 - Reverse a List in Place Using an In-Place Algorithm <br>\n",
    " &nbsp;&nbsp;&nbsp;&nbsp; b) Exercise #2 - Find Distinct Words <br>\n",
    " &nbsp;&nbsp;&nbsp;&nbsp; c) Exercise #3 - Write a program to implement a Linear Search Algorithm. <br>"
   ]
  },
  {
   "cell_type": "markdown",
   "metadata": {},
   "source": [
    "## In-Place Algorithms"
   ]
  },
  {
   "cell_type": "markdown",
   "metadata": {},
   "source": [
    "###### Main distinction: is the original data structure being modified?\n",
    "\n",
    "###### An in-place algorithm modifies the original data structure (often directly)"
   ]
  },
  {
   "cell_type": "markdown",
   "metadata": {},
   "source": [
    "#### Syntax"
   ]
  },
  {
   "cell_type": "code",
   "execution_count": 1,
   "metadata": {},
   "outputs": [
    {
     "name": "stdout",
     "output_type": "stream",
     "text": [
      "before swap: ['Ruben Dias', 'Kyle Walker', 'John Stones']\n",
      "after swap: ['John Stones', 'Kyle Walker', 'Ruben Dias']\n"
     ]
    }
   ],
   "source": [
    "# switching the places of values within an ordered data structure\n",
    "# is a swapping algorithm\n",
    "# at it's simplest, that means swapping the index location of two values\n",
    "    # which can be done using multiple variable assignment\n",
    "    # a = <a_value>\n",
    "    # b = <b_value>\n",
    "    # we can swap the values of a and b with multiple variable assignment\n",
    "    # a, b = b, a\n",
    "    # the result will be\n",
    "    # a = <b_value>\n",
    "    # b = <a_value>\n",
    "    \n",
    "# using that concept of multiple variable assignment\n",
    "# we can create a simple in-place swapping algorithm\n",
    "\n",
    "def swap(alist, x, y):\n",
    "    \"\"\"\n",
    "    accept a list and two index numbers\n",
    "    swap the order of the values at those indexes\n",
    "    \"\"\"\n",
    "    alist[x], alist[y] = alist[y], alist[x]\n",
    "    \n",
    "mylist = ['Ruben Dias', 'Kyle Walker', 'John Stones']\n",
    "print(f'before swap: {mylist}')\n",
    "swap(mylist, 0, 2)\n",
    "print(f'after swap: {mylist}')\n",
    "\n",
    "# notice there is no variable redefinition - we're still looking at the same original 'mylist'\n",
    "    # and that original list has changed value\n",
    "# another thing to notice is that this function doesn't return anything\n",
    "    # no return value is typical for an in-place algorithm\n",
    "    # we don't need a return value - the function is acting directly on the original data structure\n",
    "    # we already have access to the original data structure\n",
    "    # therefore we have no need for a return value"
   ]
  },
  {
   "cell_type": "markdown",
   "metadata": {},
   "source": [
    "## Out of Place Algorithms"
   ]
  },
  {
   "cell_type": "markdown",
   "metadata": {},
   "source": [
    "###### An out of place algorithm is characterized by the creation of a new data structure/collection/value\n",
    "###### And maintains data integrity aka does not modify the original values"
   ]
  },
  {
   "cell_type": "code",
   "execution_count": 10,
   "metadata": {},
   "outputs": [
    {
     "name": "stdout",
     "output_type": "stream",
     "text": [
      "['Courtois', 'Karim Benzema', 'Marcelo', 'Rodrygo']\n",
      "['Courtois', 'Karim Benzema', 'Marcelo', 'Rodrygo']\n",
      "original before reverse: ['Courtois', 'Karim Benzema', 'Marcelo', 'Rodrygo']\n",
      "original after reverse: ['Courtois', 'Karim Benzema', 'Marcelo', 'Rodrygo']\n",
      "new reversed version: ['Rodrygo', 'Marcelo', 'Karim Benzema', 'Courtois']\n"
     ]
    }
   ],
   "source": [
    "# an example of an out of place algorithm - reversing a list entirely using list slicing\n",
    "# or list slicing in general\n",
    "\n",
    "# a simple out of place algorithm: reversing a list with slicing\n",
    "print(mylist)\n",
    "mylist[::-1] # reverse the list using slicing\n",
    "print(mylist)\n",
    "# nothing changed above!\n",
    "    # reversing the list using slicing creates a modified copy of the original\n",
    "    # it doesn't modify the original\n",
    "    # therefore if we want to work with the modified copy going forward\n",
    "    # we must create a new variable or redefine the original variable\n",
    "print(f'original before reverse: {mylist}')\n",
    "reversecopy = mylist[::-1]\n",
    "print(f'original after reverse: {mylist}')\n",
    "print(f'new reversed version: {reversecopy}')\n",
    "\n",
    "# an out of place algo either creates a modified copy or an entirely new data structure\n",
    "# out of place algorithms are often easily identifiable by the necessity of variable redefintion/assignment\n",
    "    # and the necessity of a return statement in a function"
   ]
  },
  {
   "cell_type": "markdown",
   "metadata": {},
   "source": [
    "###### Classic Example of in-place vs. out of place of the same process: sorted() vs. .sort()"
   ]
  },
  {
   "cell_type": "code",
   "execution_count": 7,
   "metadata": {
    "scrolled": true
   },
   "outputs": [
    {
     "name": "stdout",
     "output_type": "stream",
     "text": [
      "original before sort: ['Karim Benzema', 'Rodrygo', 'Courtois', 'Marcelo']\n",
      "original after sort: ['Karim Benzema', 'Rodrygo', 'Courtois', 'Marcelo']\n",
      "new sorted version aka return value: ['Courtois', 'Karim Benzema', 'Marcelo', 'Rodrygo']\n"
     ]
    }
   ],
   "source": [
    "# sorted() is an out of place implementation of the TimSort algorithm\n",
    "mylist = ['Karim Benzema', 'Rodrygo', 'Courtois', 'Marcelo']\n",
    "print(f'original before sort: {mylist}')\n",
    "sortedcopy = sorted(mylist)\n",
    "print(f'original after sort: {mylist}')\n",
    "print(f'new sorted version aka return value: {sortedcopy}')"
   ]
  },
  {
   "cell_type": "code",
   "execution_count": 9,
   "metadata": {},
   "outputs": [
    {
     "name": "stdout",
     "output_type": "stream",
     "text": [
      "original before sort: ['Karim Benzema', 'Rodrygo', 'Courtois', 'Marcelo']\n",
      "original after sort: ['Courtois', 'Karim Benzema', 'Marcelo', 'Rodrygo']\n",
      "return value: None\n"
     ]
    }
   ],
   "source": [
    "# .sort() is an in-place implementation of the same TimSort algorithm\n",
    "mylist = ['Karim Benzema', 'Rodrygo', 'Courtois', 'Marcelo']\n",
    "print(f'original before sort: {mylist}')\n",
    "sortedcopy = mylist.sort()\n",
    "print(f'original after sort: {mylist}')\n",
    "print(f'return value: {sortedcopy}')"
   ]
  },
  {
   "cell_type": "markdown",
   "metadata": {},
   "source": [
    "#### In-Class Exercise #1 <br>\n",
    "<p>Write a function that takes in one argument (a_list), and reverses that list in-place.</p>"
   ]
  },
  {
   "cell_type": "code",
   "execution_count": null,
   "metadata": {},
   "outputs": [],
   "source": [
    "l_1 = [10, 4, 3, 8, 4, 2, 6]\n",
    "\n"
   ]
  },
  {
   "cell_type": "markdown",
   "metadata": {},
   "source": [
    "## Two Pointers"
   ]
  },
  {
   "cell_type": "markdown",
   "metadata": {},
   "source": [
    "#### Syntax"
   ]
  },
  {
   "cell_type": "code",
   "execution_count": null,
   "metadata": {},
   "outputs": [],
   "source": []
  },
  {
   "cell_type": "markdown",
   "metadata": {},
   "source": [
    "#### Video of Algorithms <br>\n",
    "<p>Watch the video about algorithms.</p>\n",
    "\n",
    "https://www.youtube.com/watch?v=Q9HjeFD62Uk\n",
    "\n",
    "https://www.youtube.com/watch?v=kPRA0W1kECg\n",
    "\n",
    "https://www.youtube.com/watch?v=ZZuD6iUe3Pc"
   ]
  },
  {
   "cell_type": "markdown",
   "metadata": {},
   "source": [
    "# Sorting Algorithms"
   ]
  },
  {
   "cell_type": "markdown",
   "metadata": {},
   "source": [
    "#### Bubble Sort\n",
    "\n",
    "Worst Case: O(n^2) Time - O(1) Space"
   ]
  },
  {
   "cell_type": "code",
   "execution_count": null,
   "metadata": {},
   "outputs": [],
   "source": []
  },
  {
   "cell_type": "markdown",
   "metadata": {},
   "source": [
    "##### Insertion Sort\n",
    "\n",
    "Worst Case: O(n^2) time - O(1)space"
   ]
  },
  {
   "cell_type": "code",
   "execution_count": null,
   "metadata": {},
   "outputs": [],
   "source": []
  },
  {
   "cell_type": "markdown",
   "metadata": {},
   "source": [
    "## Merge Sort"
   ]
  },
  {
   "cell_type": "markdown",
   "metadata": {},
   "source": [
    "#### How it Works"
   ]
  },
  {
   "cell_type": "code",
   "execution_count": null,
   "metadata": {},
   "outputs": [],
   "source": []
  },
  {
   "cell_type": "markdown",
   "metadata": {},
   "source": [
    "# Binary Search\n",
    "\n",
    "The Binary Search algorithm works by finding the number in the middle of a given array and comparing it to the target. Given that the array is sorted\n",
    "\n",
    "* The worst case run time for this algorithm is `O(log(n))`"
   ]
  },
  {
   "cell_type": "code",
   "execution_count": null,
   "metadata": {},
   "outputs": [],
   "source": []
  },
  {
   "cell_type": "markdown",
   "metadata": {},
   "source": [
    "# Exercises"
   ]
  },
  {
   "cell_type": "markdown",
   "metadata": {},
   "source": [
    "### Exercise #1 <br>\n",
    "<p>Reverse the list below in-place using an in-place algorithm.<br>For extra credit: Reverse the strings at the same time.</p>"
   ]
  },
  {
   "cell_type": "code",
   "execution_count": null,
   "metadata": {},
   "outputs": [],
   "source": [
    "words = ['this' , 'is', 'a', 'sentence', '.']\n"
   ]
  },
  {
   "cell_type": "markdown",
   "metadata": {},
   "source": [
    "### Exercise #2 <br>\n",
    "<p>Create a function that counts how many distinct words are in the string below, then outputs a dictionary with the words as the key and the value as the amount of times that word appears in the string.<br>Should output:<br>{'a': 5,<br>\n",
    " 'abstract': 1,<br>\n",
    " 'an': 3,<br>\n",
    " 'array': 2, ... etc...</p>"
   ]
  },
  {
   "cell_type": "code",
   "execution_count": null,
   "metadata": {},
   "outputs": [],
   "source": [
    "a_text = 'In computing, a hash table hash map is a data structure which implements an associative array abstract data type, a structure that can map keys to values. A hash table uses a hash function to compute an index into an array of buckets or slots from which the desired value can be found'\n",
    "\n"
   ]
  },
  {
   "cell_type": "markdown",
   "metadata": {},
   "source": [
    "## Exercise #3\n",
    "\n",
    "Write a program to implement a Linear Search Algorithm. Also in a comment, write the Time Complexity of the following algorithm.\n",
    "\n",
    "#### Hint: Linear Searching will require searching a list for a given number. "
   ]
  },
  {
   "cell_type": "code",
   "execution_count": null,
   "metadata": {},
   "outputs": [],
   "source": []
  }
 ],
 "metadata": {
  "kernelspec": {
   "display_name": "Python 3",
   "language": "python",
   "name": "python3"
  },
  "language_info": {
   "codemirror_mode": {
    "name": "ipython",
    "version": 3
   },
   "file_extension": ".py",
   "mimetype": "text/x-python",
   "name": "python",
   "nbconvert_exporter": "python",
   "pygments_lexer": "ipython3",
   "version": "3.8.8"
  }
 },
 "nbformat": 4,
 "nbformat_minor": 2
}
