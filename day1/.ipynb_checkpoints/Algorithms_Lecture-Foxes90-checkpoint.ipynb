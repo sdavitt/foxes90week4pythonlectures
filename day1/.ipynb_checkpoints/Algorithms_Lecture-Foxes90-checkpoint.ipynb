{
 "cells": [
  {
   "cell_type": "markdown",
   "metadata": {},
   "source": [
    "# Algorithms, Binary Search & Linked Lists"
   ]
  },
  {
   "cell_type": "markdown",
   "metadata": {},
   "source": [
    "## Tasks Today:\n",
    " \n",
    "1) <b>In-Place Algorithms</b> <br>\n",
    " &nbsp;&nbsp;&nbsp;&nbsp; a) Syntax <br>\n",
    " &nbsp;&nbsp;&nbsp;&nbsp; a) Out of Place Algorithm <br>\n",
    " &nbsp;&nbsp;&nbsp;&nbsp; b) In-Class Exercise #1 <br>\n",
    "2) <b>Two Pointers</b> <br>\n",
    "4) <b>Merge Sort</b> <br>\n",
    " &nbsp;&nbsp;&nbsp;&nbsp; a) Video on Algorithms <br>\n",
    " &nbsp;&nbsp;&nbsp;&nbsp; b) How it Works <br>\n",
    "5) <b>Exercises</b> <br>\n",
    " &nbsp;&nbsp;&nbsp;&nbsp; a) Exercise #1 - Reverse a List in Place Using an In-Place Algorithm <br>\n",
    " &nbsp;&nbsp;&nbsp;&nbsp; b) Exercise #2 - Find Distinct Words <br>\n",
    " &nbsp;&nbsp;&nbsp;&nbsp; c) Exercise #3 - Write a program to implement a Linear Search Algorithm. <br>"
   ]
  },
  {
   "cell_type": "markdown",
   "metadata": {},
   "source": [
    "## In-Place Algorithms"
   ]
  },
  {
   "cell_type": "markdown",
   "metadata": {},
   "source": [
    "###### Main distinction: is the original data structure being modified?\n",
    "\n",
    "###### An in-place algorithm modifies the original data structure (often directly)"
   ]
  },
  {
   "cell_type": "markdown",
   "metadata": {},
   "source": [
    "#### Syntax"
   ]
  },
  {
   "cell_type": "code",
   "execution_count": 1,
   "metadata": {},
   "outputs": [
    {
     "name": "stdout",
     "output_type": "stream",
     "text": [
      "before swap: ['Ruben Dias', 'Kyle Walker', 'John Stones']\n",
      "after swap: ['John Stones', 'Kyle Walker', 'Ruben Dias']\n"
     ]
    }
   ],
   "source": [
    "# switching the places of values within an ordered data structure\n",
    "# is a swapping algorithm\n",
    "# at it's simplest, that means swapping the index location of two values\n",
    "    # which can be done using multiple variable assignment\n",
    "    # a = <a_value>\n",
    "    # b = <b_value>\n",
    "    # we can swap the values of a and b with multiple variable assignment\n",
    "    # a, b = b, a\n",
    "    # the result will be\n",
    "    # a = <b_value>\n",
    "    # b = <a_value>\n",
    "    \n",
    "# using that concept of multiple variable assignment\n",
    "# we can create a simple in-place swapping algorithm\n",
    "\n",
    "def swap(alist, x, y):\n",
    "    \"\"\"\n",
    "    accept a list and two index numbers\n",
    "    swap the order of the values at those indexes\n",
    "    \"\"\"\n",
    "    alist[x], alist[y] = alist[y], alist[x]\n",
    "    \n",
    "mylist = ['Ruben Dias', 'Kyle Walker', 'John Stones']\n",
    "print(f'before swap: {mylist}')\n",
    "swap(mylist, 0, 2)\n",
    "print(f'after swap: {mylist}')\n",
    "\n",
    "# notice there is no variable redefinition - we're still looking at the same original 'mylist'\n",
    "    # and that original list has changed value\n",
    "# another thing to notice is that this function doesn't return anything\n",
    "    # no return value is typical for an in-place algorithm\n",
    "    # we don't need a return value - the function is acting directly on the original data structure\n",
    "    # we already have access to the original data structure\n",
    "    # therefore we have no need for a return value"
   ]
  },
  {
   "cell_type": "markdown",
   "metadata": {},
   "source": [
    "## Out of Place Algorithms"
   ]
  },
  {
   "cell_type": "markdown",
   "metadata": {},
   "source": [
    "###### An out of place algorithm is characterized by the creation of a new data structure/collection/value\n",
    "###### And maintains data integrity aka does not modify the original values"
   ]
  },
  {
   "cell_type": "code",
   "execution_count": 10,
   "metadata": {},
   "outputs": [
    {
     "name": "stdout",
     "output_type": "stream",
     "text": [
      "['Courtois', 'Karim Benzema', 'Marcelo', 'Rodrygo']\n",
      "['Courtois', 'Karim Benzema', 'Marcelo', 'Rodrygo']\n",
      "original before reverse: ['Courtois', 'Karim Benzema', 'Marcelo', 'Rodrygo']\n",
      "original after reverse: ['Courtois', 'Karim Benzema', 'Marcelo', 'Rodrygo']\n",
      "new reversed version: ['Rodrygo', 'Marcelo', 'Karim Benzema', 'Courtois']\n"
     ]
    }
   ],
   "source": [
    "# an example of an out of place algorithm - reversing a list entirely using list slicing\n",
    "# or list slicing in general\n",
    "\n",
    "# a simple out of place algorithm: reversing a list with slicing\n",
    "print(mylist)\n",
    "mylist[::-1] # reverse the list using slicing\n",
    "print(mylist)\n",
    "# nothing changed above!\n",
    "    # reversing the list using slicing creates a modified copy of the original\n",
    "    # it doesn't modify the original\n",
    "    # therefore if we want to work with the modified copy going forward\n",
    "    # we must create a new variable or redefine the original variable\n",
    "print(f'original before reverse: {mylist}')\n",
    "reversecopy = mylist[::-1]\n",
    "print(f'original after reverse: {mylist}')\n",
    "print(f'new reversed version: {reversecopy}')\n",
    "\n",
    "# an out of place algo either creates a modified copy or an entirely new data structure\n",
    "# out of place algorithms are often easily identifiable by the necessity of variable redefintion/assignment\n",
    "    # and the necessity of a return statement in a function"
   ]
  },
  {
   "cell_type": "markdown",
   "metadata": {},
   "source": [
    "###### Classic Example of in-place vs. out of place of the same process: sorted() vs. .sort()"
   ]
  },
  {
   "cell_type": "code",
   "execution_count": 7,
   "metadata": {
    "scrolled": true
   },
   "outputs": [
    {
     "name": "stdout",
     "output_type": "stream",
     "text": [
      "original before sort: ['Karim Benzema', 'Rodrygo', 'Courtois', 'Marcelo']\n",
      "original after sort: ['Karim Benzema', 'Rodrygo', 'Courtois', 'Marcelo']\n",
      "new sorted version aka return value: ['Courtois', 'Karim Benzema', 'Marcelo', 'Rodrygo']\n"
     ]
    }
   ],
   "source": [
    "# sorted() is an out of place implementation of the TimSort algorithm\n",
    "mylist = ['Karim Benzema', 'Rodrygo', 'Courtois', 'Marcelo']\n",
    "print(f'original before sort: {mylist}')\n",
    "sortedcopy = sorted(mylist)\n",
    "print(f'original after sort: {mylist}')\n",
    "print(f'new sorted version aka return value: {sortedcopy}')"
   ]
  },
  {
   "cell_type": "code",
   "execution_count": 9,
   "metadata": {},
   "outputs": [
    {
     "name": "stdout",
     "output_type": "stream",
     "text": [
      "original before sort: ['Karim Benzema', 'Rodrygo', 'Courtois', 'Marcelo']\n",
      "original after sort: ['Courtois', 'Karim Benzema', 'Marcelo', 'Rodrygo']\n",
      "return value: None\n"
     ]
    }
   ],
   "source": [
    "# .sort() is an in-place implementation of the same TimSort algorithm\n",
    "mylist = ['Karim Benzema', 'Rodrygo', 'Courtois', 'Marcelo']\n",
    "print(f'original before sort: {mylist}')\n",
    "sortedcopy = mylist.sort()\n",
    "print(f'original after sort: {mylist}')\n",
    "print(f'return value: {sortedcopy}')"
   ]
  },
  {
   "cell_type": "markdown",
   "metadata": {},
   "source": [
    "#### In-Class Exercise #1 <br>\n",
    "<p>Write a function that takes in one argument (a_list), and reverses that list in-place.</p>"
   ]
  },
  {
   "cell_type": "code",
   "execution_count": 7,
   "metadata": {},
   "outputs": [
    {
     "name": "stdout",
     "output_type": "stream",
     "text": [
      "[6, 2, 4, 8, 3, 4, 10]\n"
     ]
    }
   ],
   "source": [
    "l_1 = [10, 4, 3, 8, 4, 2, 6]\n",
    "\n",
    "\n",
    "\n",
    "def reverseInPlace(a_list):\n",
    "    for i in range(len(a_list)//2):\n",
    "        a_list[i], a_list[-(i+1)] = a_list[-(i+1)], a_list[i]\n",
    "        \n",
    "reverseInPlace(l_1)\n",
    "print(l_1)"
   ]
  },
  {
   "cell_type": "markdown",
   "metadata": {},
   "source": [
    "## What is a pointer?"
   ]
  },
  {
   "cell_type": "code",
   "execution_count": 9,
   "metadata": {},
   "outputs": [
    {
     "name": "stdout",
     "output_type": "stream",
     "text": [
      "[10, 4, 3, 8, 4, 2, 6]\n",
      "[10, 2, 4, 8, 3, 4, 6]\n"
     ]
    }
   ],
   "source": [
    "# just some variable with an integer value (usually) that is set up to keep track of index numbers\n",
    "    # as you loop or perform an algorithm/process\n",
    "\n",
    "# the primary advantage of using a pointer is additional control over the process of looping\n",
    "# pointers are most commonly used with while loops\n",
    "\n",
    "l_1 = [10, 4, 3, 8, 4, 2, 6]\n",
    "\n",
    "# let's look at a pointer-based approach to the above reversal algorithm\n",
    "def reverseInPlace(a_list):\n",
    "    i = 1 # a pointer\n",
    "    while i < len(a_list)//2:\n",
    "        a_list[i], a_list[-(i+1)] = a_list[-(i+1)], a_list[i]\n",
    "        i += 1\n",
    "        \n",
    "# same effect as the above function, just a different approach\n",
    "    # because we have control over the way the loop steps, we can pick slightly different behavior for our loop\n",
    "    # swap the middle values only? (ignore the end values)\n",
    "\n",
    "print(l_1)\n",
    "reverseInPlace(l_1)\n",
    "print(l_1)"
   ]
  },
  {
   "cell_type": "markdown",
   "metadata": {},
   "source": [
    "## Two Pointers"
   ]
  },
  {
   "cell_type": "markdown",
   "metadata": {},
   "source": [
    "#### Syntax"
   ]
  },
  {
   "cell_type": "code",
   "execution_count": 11,
   "metadata": {},
   "outputs": [
    {
     "name": "stdout",
     "output_type": "stream",
     "text": [
      "[10, 4, 3, 8, 4, 2, 6]\n",
      "[6, 2, 4, 8, 3, 4, 10]\n"
     ]
    }
   ],
   "source": [
    "# same concept as a single pointer\n",
    "# but, we can independently move the two pointers\n",
    "# one pointer/one index location you are examining in the data structure can be entirely unrelated to the other location\n",
    "\n",
    "l_1 = [10, 4, 3, 8, 4, 2, 6]\n",
    "\n",
    "def reverseInPlace(a_list):\n",
    "    left = 0 # a pointer that starts at the start of the list\n",
    "    right = len(a_list)-1 # pointer that starts at the end of the list\n",
    "    while left < right:\n",
    "        a_list[left], a_list[right] = a_list[right], a_list[left]\n",
    "        left += 1\n",
    "        right -= 1\n",
    "        \n",
    "print(l_1)\n",
    "reverseInPlace(l_1)\n",
    "print(l_1)"
   ]
  },
  {
   "cell_type": "markdown",
   "metadata": {},
   "source": [
    "#### Video of Algorithms <br>\n",
    "<p>Watch the video about algorithms.</p>\n",
    "\n",
    "https://www.youtube.com/watch?v=Q9HjeFD62Uk\n",
    "\n",
    "https://www.youtube.com/watch?v=kPRA0W1kECg\n",
    "\n",
    "https://www.youtube.com/watch?v=ZZuD6iUe3Pc"
   ]
  },
  {
   "cell_type": "markdown",
   "metadata": {},
   "source": [
    "# Sorting Algorithms"
   ]
  },
  {
   "cell_type": "markdown",
   "metadata": {},
   "source": [
    "#### Bubble Sort\n",
    "\n",
    "Worst Case: O(n^2) Time - O(1) Space"
   ]
  },
  {
   "cell_type": "code",
   "execution_count": 18,
   "metadata": {},
   "outputs": [
    {
     "name": "stdout",
     "output_type": "stream",
     "text": [
      "[1, 3, 5, 7, 12, 20, 37, 42, 72]\n"
     ]
    }
   ],
   "source": [
    "# Time Complexity\n",
    "# O(n^2) Θ(n^2) Ω(n)\n",
    "# Big-O notation: worst-case: quadratic\n",
    "# Theta notation: avg-case: quadratic\n",
    "# Omega notation: best-case (already sorted): linear\n",
    "\n",
    "def bubbleSort(arr):\n",
    "    # flag variable - True if we think the list is sorted, False if the list is not yet sorted\n",
    "    unSorted = True\n",
    "    while unSorted:\n",
    "        # assume that the list is sorted already\n",
    "        unSorted = False\n",
    "        # perform our actual inner loop with comparisons and check/confirm whether or not this is sorted\n",
    "        for i in range(len(arr)-1):\n",
    "            if arr[i] > arr[i+1]: # check if values are out of order\n",
    "                # swap them if so\n",
    "                arr[i], arr[i+1] = arr[i+1], arr[i]\n",
    "                unSorted = True # if a swap occured, there are potentially more swaps to occur\n",
    "    \n",
    "mylist = [5, 3, 12, 37, 7, 72, 20, 1, 42]\n",
    "bubbleSort(mylist)\n",
    "print(mylist)"
   ]
  },
  {
   "cell_type": "markdown",
   "metadata": {},
   "source": [
    "##### Insertion Sort\n",
    "\n",
    "Worst Case: O(n^2) time - O(1)space"
   ]
  },
  {
   "cell_type": "code",
   "execution_count": 20,
   "metadata": {},
   "outputs": [
    {
     "name": "stdout",
     "output_type": "stream",
     "text": [
      "[1, 3, 5, 7, 12, 20, 37, 42, 72]\n"
     ]
    }
   ],
   "source": [
    "# Time Complexity\n",
    "# O(n^2) Θ(nlogn) Ω(n)\n",
    "# Big-O notation: worst-case: quadratic\n",
    "# Theta notation: avg-case: linear logarithmic\n",
    "# Omega notation: best-case (already sorted): linear\n",
    "\n",
    "def insertionSort(array):\n",
    "    # outer for loop - all values except the first value in the list\n",
    "    for i in range(1, len(array)):\n",
    "        j=i # start pointer j at the index we're pulling the value out of\n",
    "        # j is a pointer starting at index i where we 'extracted' a value\n",
    "        # j will move toward the start of the list as we swap values\n",
    "        while j > 0 and array[j] < array[j-1]:\n",
    "            array[j], array[j-1] = array[j-1], array[j]\n",
    "            j -= 1 # move the pointer to do the next comparison\n",
    "            \n",
    "mylist = [5, 3, 12, 37, 7, 72, 20, 1, 42]\n",
    "insertionSort(mylist)\n",
    "print(mylist)"
   ]
  },
  {
   "cell_type": "markdown",
   "metadata": {},
   "source": [
    "## Merge Sort"
   ]
  },
  {
   "cell_type": "markdown",
   "metadata": {},
   "source": [
    "#### How it Works"
   ]
  },
  {
   "cell_type": "code",
   "execution_count": 22,
   "metadata": {},
   "outputs": [
    {
     "name": "stdout",
     "output_type": "stream",
     "text": [
      "[5, 3, 12, 37, 7, 72, 20, 1, 42]\n",
      "Splitting... [5, 3, 12, 37, 7, 72, 20, 1, 42]\n",
      "Splitting... [5, 3, 12, 37]\n",
      "Splitting... [5, 3]\n",
      "Splitting... [5]\n",
      "Merging:  [5]\n",
      "Splitting... [3]\n",
      "Merging:  [3]\n",
      "Merging:  [3, 5]\n",
      "Splitting... [12, 37]\n",
      "Splitting... [12]\n",
      "Merging:  [12]\n",
      "Splitting... [37]\n",
      "Merging:  [37]\n",
      "Merging:  [12, 37]\n",
      "Merging:  [3, 5, 12, 37]\n",
      "Splitting... [7, 72, 20, 1, 42]\n",
      "Splitting... [7, 72]\n",
      "Splitting... [7]\n",
      "Merging:  [7]\n",
      "Splitting... [72]\n",
      "Merging:  [72]\n",
      "Merging:  [7, 72]\n",
      "Splitting... [20, 1, 42]\n",
      "Splitting... [20]\n",
      "Merging:  [20]\n",
      "Splitting... [1, 42]\n",
      "Splitting... [1]\n",
      "Merging:  [1]\n",
      "Splitting... [42]\n",
      "Merging:  [42]\n",
      "Merging:  [1, 42]\n",
      "Merging:  [1, 20, 42]\n",
      "Merging:  [1, 7, 20, 42, 72]\n",
      "Merging:  [1, 3, 5, 7, 12, 20, 37, 42, 72]\n",
      "[1, 3, 5, 7, 12, 20, 37, 42, 72]\n"
     ]
    }
   ],
   "source": [
    "# There are multiple ways to code a MergeSort algorithm\n",
    "# We'll be looking at a classic recursive implementation\n",
    "\n",
    "# Step 1: Split every item into its own partition recursively\n",
    "# Step 2: From left to right, merge partitions together\n",
    "# Step 3: While merging partitions, place values into the correct position within the partitions\n",
    "# Step 4: Continue steps 2-3 until all partitions have been merged back into one whole\n",
    "\n",
    "# Advantage - merge sort is more efficient in the worst case scenario!\n",
    "# O(nlogn) Θ(nlogn) Ω(nlogn)\n",
    "# All cases linear logarithmic\n",
    "# Merge sort does use some additional memory - O(n) linear space complexity\n",
    "\n",
    "mylist = [5, 3, 12, 37, 7, 72, 20, 1, 42]\n",
    "\n",
    "def mergeSort(arr):\n",
    "    print('Splitting...', arr)\n",
    "    \n",
    "    # step 1: splitting the array\n",
    "    if len(arr) > 1:\n",
    "        lefthalf = arr[:len(arr)//2]\n",
    "        righthalf = arr[len(arr)//2:]\n",
    "        \n",
    "        # recursively call mergeSort to perform all of our merges/creation of partitions\n",
    "        mergeSort(lefthalf)\n",
    "        mergeSort(righthalf)\n",
    "        \n",
    "        # steps 2&3 - comparisons and merging partitions\n",
    "        # set up pointers:\n",
    "        i = 0 # pointer for the left half\n",
    "        j = 0 # pointer for the right half\n",
    "        k = 0 # pointer for the main array\n",
    "        # if we have values left in both partitions\n",
    "        while i < len(lefthalf) and j < len(righthalf):\n",
    "            if lefthalf[i] < righthalf[j]:\n",
    "                arr[k] = lefthalf[i]\n",
    "                i = i+1\n",
    "                k = k+1\n",
    "            else:\n",
    "                arr[k] = righthalf[j]\n",
    "                j = j+1\n",
    "                k = k+1\n",
    "        # only have values left in the lefthalf\n",
    "        while i < len(lefthalf):\n",
    "            arr[k] = lefthalf[i]\n",
    "            i = i+1\n",
    "            k = k+1\n",
    "        # only have values left in the righthalf\n",
    "        while j < len(righthalf):\n",
    "            arr[k] = righthalf[j]\n",
    "            j = j+1\n",
    "            k = k+1\n",
    "    print('Merging: ', arr)\n",
    "    \n",
    "print(mylist)\n",
    "mergeSort(mylist)\n",
    "print(mylist)"
   ]
  },
  {
   "cell_type": "markdown",
   "metadata": {},
   "source": [
    "# Binary Search\n",
    "\n",
    "The Binary Search algorithm works by finding the number in the middle of a given array and comparing it to the target. Given that the array is sorted\n",
    "\n",
    "* The worst case run time for this algorithm is `O(log(n))`"
   ]
  },
  {
   "cell_type": "code",
   "execution_count": 55,
   "metadata": {},
   "outputs": [
    {
     "data": {
      "text/plain": [
       "'The value 20000 is not present in the list. Steps taken: 21.'"
      ]
     },
     "execution_count": 55,
     "metadata": {},
     "output_type": "execute_result"
    }
   ],
   "source": [
    "# We're going to look at a binary search in a sorted array of numbers\n",
    "\n",
    "from random import randint\n",
    "# make a list of random numbers\n",
    "nums = sorted([randint(0,1000) for i in range(1800000)])\n",
    "#print(nums)\n",
    "\n",
    "def binarySearch(arr, target):\n",
    "    left = 0\n",
    "    right = len(arr)-1\n",
    "    steps = 0 # counts total number of steps (not part of the functionality of the algorithm)\n",
    "    while left <= right: # while we still have values to check\n",
    "        steps += 1\n",
    "        mid_index = (left+right)//2\n",
    "        if target == arr[mid_index]:\n",
    "            return f'The index of {target} is {mid_index}. Steps taken: {steps}'\n",
    "        elif target > arr[mid_index]:\n",
    "            # target greater than middle value\n",
    "            left = mid_index + 1\n",
    "        else:\n",
    "            right = mid_index - 1\n",
    "    return f'The value {target} is not present in the list. Steps taken: {steps}.'\n",
    "\n",
    "binarySearch(nums, 20000)"
   ]
  },
  {
   "cell_type": "markdown",
   "metadata": {},
   "source": [
    "# Exercises"
   ]
  },
  {
   "cell_type": "markdown",
   "metadata": {},
   "source": [
    "### Exercise #1 <br>\n",
    "<p>Reverse the list below in-place using an in-place algorithm.<br>For extra credit: Reverse the strings at the same time.</p>"
   ]
  },
  {
   "cell_type": "code",
   "execution_count": null,
   "metadata": {},
   "outputs": [],
   "source": [
    "words = ['this' , 'is', 'a', 'sentence', '.']\n"
   ]
  },
  {
   "cell_type": "markdown",
   "metadata": {},
   "source": [
    "### Exercise #2 <br>\n",
    "<p>Create a function that counts how many distinct words are in the string below, then outputs a dictionary with the words as the key and the value as the amount of times that word appears in the string.<br>Should output:<br>{'a': 5,<br>\n",
    " 'abstract': 1,<br>\n",
    " 'an': 3,<br>\n",
    " 'array': 2, ... etc...</p>"
   ]
  },
  {
   "cell_type": "code",
   "execution_count": 25,
   "metadata": {},
   "outputs": [
    {
     "data": {
      "text/plain": [
       "{'a': 5,\n",
       " 'abstract': 1,\n",
       " 'an': 3,\n",
       " 'array': 2,\n",
       " 'associative': 1,\n",
       " 'be': 1,\n",
       " 'buckets': 1,\n",
       " 'can': 2,\n",
       " 'compute': 1,\n",
       " 'computing,': 1,\n",
       " 'data': 2,\n",
       " 'desired': 1,\n",
       " 'found': 1,\n",
       " 'from': 1,\n",
       " 'function': 1,\n",
       " 'hash': 4,\n",
       " 'implements': 1,\n",
       " 'in': 1,\n",
       " 'index': 1,\n",
       " 'into': 1,\n",
       " 'is': 1,\n",
       " 'keys': 1,\n",
       " 'map': 2,\n",
       " 'of': 1,\n",
       " 'or': 1,\n",
       " 'slots': 1,\n",
       " 'structure': 2,\n",
       " 'table': 2,\n",
       " 'that': 1,\n",
       " 'the': 1,\n",
       " 'to': 2,\n",
       " 'type,': 1,\n",
       " 'uses': 1,\n",
       " 'value': 1,\n",
       " 'values.': 1,\n",
       " 'which': 2}"
      ]
     },
     "execution_count": 25,
     "metadata": {},
     "output_type": "execute_result"
    }
   ],
   "source": [
    "a_text = 'In computing, a hash table hash map is a data structure which implements an associative array abstract data type, a structure that can map keys to values. A hash table uses a hash function to compute an index into an array of buckets or slots from which the desired value can be found'\n",
    "\n",
    "# uppercase and lowercase the same\n",
    "# punctuation not impacting the answer - in this example it shouldn't be a problem\n",
    "\n",
    "def counts(astr):\n",
    "    countdict = {}\n",
    "    words = sorted(astr.lower().split()) # feed the dictionary words in sorted order bc dictionaries are insertion-ordered\n",
    "    for w in words:\n",
    "        # if the word is already in my countdict's keys, increase the value by 1\n",
    "        if w in countdict:\n",
    "            countdict[w] += 1\n",
    "        # otherwise the word is not already in the countdict, add a key value pair for that word\n",
    "        else:\n",
    "            # where the value is 1 because we are seeing this word for the first time\n",
    "            countdict[w] = 1\n",
    "    return countdict\n",
    "\n",
    "counts(a_text)"
   ]
  },
  {
   "cell_type": "code",
   "execution_count": 29,
   "metadata": {},
   "outputs": [
    {
     "data": {
      "text/plain": [
       "[('a', 5), ('hash', 4), ('an', 3)]"
      ]
     },
     "execution_count": 29,
     "metadata": {},
     "output_type": "execute_result"
    }
   ],
   "source": [
    "# What about a version that ignores punctuation and uses built-ins\n",
    "from collections import Counter\n",
    "import string\n",
    "\n",
    "# Counter() is responsible for creating the Counter object (dictionary-like structure providing our answer)\n",
    "# .translate(str.maketrans()) are responsible for the removal of punctuation\n",
    "\n",
    "mycounter = Counter(a_text.lower().translate(str.maketrans('', '', string.punctuation)).split())\n",
    "mycounter.most_common(3)"
   ]
  },
  {
   "cell_type": "markdown",
   "metadata": {},
   "source": [
    "## Exercise #3\n",
    "\n",
    "Write a program to implement a Linear Search Algorithm. Also in a comment, write the Time Complexity of the following algorithm.\n",
    "\n",
    "#### Hint: Linear Searching will require searching a list for a given number. "
   ]
  },
  {
   "cell_type": "code",
   "execution_count": 11,
   "metadata": {},
   "outputs": [
    {
     "data": {
      "text/plain": [
       "4"
      ]
     },
     "execution_count": 11,
     "metadata": {},
     "output_type": "execute_result"
    }
   ],
   "source": [
    "# write a function that searches a list for a given value\n",
    "# in linear time aka O(n)\n",
    "# ... aka just a for loop through a list to find a value\n",
    "\n",
    "# O(n) - linear\n",
    "def searchVal(alist, value):\n",
    "    for i in range(len(alist)): # n\n",
    "        if value == alist[i]: # 1\n",
    "            return i\n",
    "    return None\n",
    "\n",
    "searchVal([5, 120, 325, 352, 12, 4, 52, 16], 12)"
   ]
  },
  {
   "cell_type": "code",
   "execution_count": 10,
   "metadata": {},
   "outputs": [
    {
     "data": {
      "text/plain": [
       "4"
      ]
     },
     "execution_count": 10,
     "metadata": {},
     "output_type": "execute_result"
    }
   ],
   "source": [
    "# we just wrote the list.index() method\n",
    "[5, 120, 325, 352, 12, 4, 52, 16].index(12)"
   ]
  },
  {
   "cell_type": "code",
   "execution_count": null,
   "metadata": {},
   "outputs": [],
   "source": []
  },
  {
   "cell_type": "markdown",
   "metadata": {},
   "source": [
    "## Wednesday Whiteboard - O(n) time O(1) space answer"
   ]
  },
  {
   "cell_type": "markdown",
   "metadata": {},
   "source": [
    "###### Given a sequence of numbers, find the largest pair sum in the sequence.\n",
    "\n",
    "###### For example\n",
    "\n",
    "###### [10, 14, 2, 23, 19] -->  42 (= 23 + 19)\n",
    "###### [99, 2, 2, 23, 19]  --> 122 (= 99 + 23)\n",
    "\n",
    "###### Input sequence contains minimum two elements and every element is an integer."
   ]
  },
  {
   "cell_type": "code",
   "execution_count": 4,
   "metadata": {},
   "outputs": [
    {
     "data": {
      "text/plain": [
       "122"
      ]
     },
     "execution_count": 4,
     "metadata": {},
     "output_type": "execute_result"
    }
   ],
   "source": [
    "# the goal is to perform as few expensive operations as possible\n",
    "# initial answer had sorting - sorting is a linear logarithmic process O(nlogn)\n",
    "    # so, we sought to eliminate that sorting from our refactored answer\n",
    "    # using max twice and a remove, we were able to reduce our time complexity to O(n) linear\n",
    "        # however, we performed three linear operations (still linear overall but we can improve)\n",
    "# a good strategy if we need to find certain values in a list\n",
    "# is to create placeholder variables that will hold those values\n",
    "# that way we can then loop and fill in those placeholder variables\n",
    "# usually just by performing simple mathmatical comparisons (which are very efficient)\n",
    "\n",
    "# I want to replace max() .remove() and max()\n",
    "# with a single for loop\n",
    "# the secondary benefit to this besides the moderate efficiency gain (remember- still overall linear)\n",
    "# we will maintain data integrity (we won't alter the original list like we did with .remove())\n",
    "\n",
    "# O(n) linear Time complexity\n",
    "# O(1) constant space complexity\n",
    "\n",
    "def bigPairSum(arr):\n",
    "    if arr[0] > arr[1]: # 1\n",
    "        largest = arr[0] # 1\n",
    "        large2 = arr[1] # 1\n",
    "    else:\n",
    "        largest = arr[1] # 1\n",
    "        large2 = arr[0] # 1\n",
    "    for i in range(2, len(arr)): # n\n",
    "        if arr[i] > largest: # 1\n",
    "            large2 = largest # 1\n",
    "            largest = arr[i] # 1\n",
    "        elif arr[i] > large2: # 1\n",
    "            large2 = arr[i] # 1 \n",
    "    return largest+large2 # 1\n",
    "\n",
    "bigPairSum([99, 2, 2, 23, 19])\n",
    "    "
   ]
  },
  {
   "cell_type": "code",
   "execution_count": null,
   "metadata": {},
   "outputs": [],
   "source": []
  }
 ],
 "metadata": {
  "kernelspec": {
   "display_name": "Python 3",
   "language": "python",
   "name": "python3"
  },
  "language_info": {
   "codemirror_mode": {
    "name": "ipython",
    "version": 3
   },
   "file_extension": ".py",
   "mimetype": "text/x-python",
   "name": "python",
   "nbconvert_exporter": "python",
   "pygments_lexer": "ipython3",
   "version": "3.8.8"
  }
 },
 "nbformat": 4,
 "nbformat_minor": 2
}
